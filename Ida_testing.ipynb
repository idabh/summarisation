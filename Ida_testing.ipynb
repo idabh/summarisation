{
 "cells": [
  {
   "cell_type": "code",
   "execution_count": 1,
   "metadata": {},
   "outputs": [],
   "source": [
    "import numpy as np"
   ]
  },
  {
   "cell_type": "code",
   "execution_count": null,
   "metadata": {},
   "outputs": [],
   "source": [
    "#will this get pushed? Let's see ;)"
   ]
  },
  {
   "cell_type": "code",
   "execution_count": 5,
   "metadata": {},
   "outputs": [
    {
     "output_type": "execute_result",
     "data": {
      "text/plain": "(10000,)"
     },
     "metadata": {},
     "execution_count": 5
    }
   ],
   "source": [
    "results = np.load(\"mt5_results-50k.npy\", allow_pickle=True)\n",
    "results.shape #10000 summaries..."
   ]
  },
  {
   "cell_type": "code",
   "execution_count": 10,
   "metadata": {},
   "outputs": [
    {
     "output_type": "execute_result",
     "data": {
      "text/plain": "{'idx': 3858,\n 'pred': '<extra_id_0> var en mindre behagelig oplevelse, 90-årige Sonja Olsen fra Vær',\n 'summary': 'Furesø Kommune lovede at komme og fjerne rotten hos 90-årige Sonja Olsen fra Værløse. Hun venter stadig'}"
     },
     "metadata": {},
     "execution_count": 10
    }
   ],
   "source": [
    "results[0]"
   ]
  }
 ],
 "metadata": {
  "language_info": {
   "codemirror_mode": {
    "name": "ipython",
    "version": 3
   },
   "file_extension": ".py",
   "mimetype": "text/x-python",
   "name": "python",
   "nbconvert_exporter": "python",
   "pygments_lexer": "ipython3",
   "version": "3.7.3-final"
  },
  "orig_nbformat": 2,
  "kernelspec": {
   "name": "python37364bit5d024e253cac47bc93477fb7c005a379",
   "display_name": "Python 3.7.3 64-bit"
  }
 },
 "nbformat": 4,
 "nbformat_minor": 2
}